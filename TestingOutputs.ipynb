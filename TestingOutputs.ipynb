{
 "cells": [
  {
   "cell_type": "markdown",
   "id": "afe4046a-b327-4059-9b5d-b1b1ea034e67",
   "metadata": {},
   "source": [
    "# Testing clamp_col Function"
   ]
  },
  {
   "cell_type": "code",
   "execution_count": 1,
   "id": "d39fd3e9-8519-47d6-b884-770b1deb8455",
   "metadata": {},
   "outputs": [],
   "source": [
    "import torch\n",
    "\n",
    "def clamp_tensor(tensor: torch.Tensor, bounds: torch.Tensor) -> torch.Tensor:\n",
    "    \"\"\"\n",
    "    Clamps the values of a tensor within given bounds.\n",
    "\n",
    "    Args:\n",
    "        tensor (Tensor): The tensor to clamp.\n",
    "        bounds (Tensor): A tensor containing the lower and upper bounds.\n",
    "\n",
    "    Returns:\n",
    "        Tensor: The clamped tensor.\n",
    "    \"\"\"\n",
    "    if bounds.dim() == 2 and bounds.size(0) == 2:\n",
    "        # Common bounds for all samples: bounds shape is (2, dim)\n",
    "        lower_bounds, upper_bounds = bounds\n",
    "    elif bounds.dim() == 3 and bounds.size(1) == 2:\n",
    "        # Per-sample bounds: bounds shape is (batch_size, 2, dim)\n",
    "        lower_bounds = bounds[:, 0, :]\n",
    "        upper_bounds = bounds[:, 1, :]\n",
    "    else:\n",
    "        raise ValueError(\"Invalid bounds dimension. Expected bounds of shape (2, dim) or (batch_size, 2, dim).\")\n",
    "    \n",
    "    # Perform clamping\n",
    "    return torch.max(torch.min(tensor, upper_bounds), lower_bounds)\n",
    "\n",
    "# Original clamp_col function\n",
    "def clamp_col(t: torch.Tensor, bounds: torch.Tensor) -> torch.Tensor:\n",
    "    if len(bounds.shape) == 2:\n",
    "        # Common bounds for all samples\n",
    "        dim = bounds.shape[-1]\n",
    "        for i in range(dim):\n",
    "            t[:, i] = torch.clamp(t[:, i], min=bounds[0][i], max=bounds[1][i])\n",
    "    else:\n",
    "        # Per-sample bounds\n",
    "        assert bounds.shape[0] == t.shape[0], \"Batch size of bounds and tensor must match.\"\n",
    "        dim = bounds.shape[-1]\n",
    "        for i in range(dim):\n",
    "            for j in range(bounds.shape[0]):\n",
    "                t[j, i] = torch.clamp(t[j, i], min=bounds[j][0][i], max=bounds[j][1][i])\n",
    "    return t\n",
    "\n",
    "\n"
   ]
  },
  {
   "cell_type": "code",
   "execution_count": 2,
   "id": "150515fb-641f-473c-bddd-3ef29b28af8b",
   "metadata": {},
   "outputs": [
    {
     "name": "stdout",
     "output_type": "stream",
     "text": [
      "Test Case 1 Passed: Outputs are identical.\n"
     ]
    }
   ],
   "source": [
    "\n",
    "\n",
    "# Test Case 1: Common bounds for all samples\n",
    "batch_size = 10\n",
    "dim = 5\n",
    "t = torch.randn(batch_size, dim)\n",
    "bounds = torch.tensor([\n",
    "    [-1.0, -2.0, -3.0, -4.0, -5.0],  # Lower bounds\n",
    "    [1.0, 2.0, 3.0, 4.0, 5.0]        # Upper bounds\n",
    "])\n",
    "\n",
    "\n",
    "t1 = t.clone()\n",
    "t2 = t.clone()\n",
    "\n",
    "\n",
    "output1 = clamp_tensor(t1, bounds)\n",
    "output2 = clamp_col(t2, bounds)\n",
    "\n",
    "\n",
    "if torch.allclose(output1, output2):\n",
    "    print(\"Test Case 1 Passed: Outputs are identical.\")\n",
    "else:\n",
    "    print(\"Test Case 1 Failed: Outputs differ.\")\n",
    "    print(\"Difference:\\n\", output1 - output2)\n"
   ]
  },
  {
   "cell_type": "code",
   "execution_count": 3,
   "id": "e28d6a9e-4092-454b-a5f1-4dab643c8639",
   "metadata": {},
   "outputs": [
    {
     "name": "stdout",
     "output_type": "stream",
     "text": [
      "Test Case 2 Passed: Outputs are identical.\n"
     ]
    }
   ],
   "source": [
    "# Test Case 2: Per-sample bounds\n",
    "# Generate per-sample bounds of shape (batch_size, 2, dim)\n",
    "lower_bounds = torch.linspace(-1, -5, steps=dim).repeat(batch_size, 1)\n",
    "upper_bounds = torch.linspace(1, 5, steps=dim).repeat(batch_size, 1)\n",
    "bounds_per_sample = torch.stack([lower_bounds, upper_bounds], dim=1)  # Shape: (batch_size, 2, dim)\n",
    "\n",
    "\n",
    "t1 = t.clone()\n",
    "t2 = t.clone()\n",
    "\n",
    "\n",
    "output1 = clamp_tensor(t1, bounds_per_sample)\n",
    "output2 = clamp_col(t2, bounds_per_sample)\n",
    "\n",
    "\n",
    "if torch.allclose(output1, output2):\n",
    "    print(\"Test Case 2 Passed: Outputs are identical.\")\n",
    "else:\n",
    "    print(\"Test Case 2 Failed: Outputs differ.\")\n",
    "    print(\"Difference:\\n\", output1 - output2)\n",
    "\n"
   ]
  }
 ],
 "metadata": {
  "kernelspec": {
   "display_name": "Python 3 (ipykernel)",
   "language": "python",
   "name": "python3"
  },
  "language_info": {
   "codemirror_mode": {
    "name": "ipython",
    "version": 3
   },
   "file_extension": ".py",
   "mimetype": "text/x-python",
   "name": "python",
   "nbconvert_exporter": "python",
   "pygments_lexer": "ipython3",
   "version": "3.12.4"
  }
 },
 "nbformat": 4,
 "nbformat_minor": 5
}
