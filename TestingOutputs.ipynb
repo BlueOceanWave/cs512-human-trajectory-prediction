{
 "cells": [
  {
   "cell_type": "markdown",
   "id": "afe4046a-b327-4059-9b5d-b1b1ea034e67",
   "metadata": {},
   "source": [
    "# Testing clamp_col Function"
   ]
  },
  {
   "cell_type": "code",
   "execution_count": 1,
   "id": "d39fd3e9-8519-47d6-b884-770b1deb8455",
   "metadata": {},
   "outputs": [],
   "source": [
    "import torch\n",
    "\n",
    "def clamp_tensor(tensor: torch.Tensor, bounds: torch.Tensor) -> torch.Tensor:\n",
    "    \"\"\"\n",
    "    Clamps the values of a tensor within given bounds.\n",
    "\n",
    "    Args:\n",
    "        tensor (Tensor): The tensor to clamp.\n",
    "        bounds (Tensor): A tensor containing the lower and upper bounds.\n",
    "\n",
    "    Returns:\n",
    "        Tensor: The clamped tensor.\n",
    "    \"\"\"\n",
    "    if bounds.dim() == 2 and bounds.size(0) == 2:\n",
    "        # Common bounds for all samples: bounds shape is (2, dim)\n",
    "        lower_bounds, upper_bounds = bounds\n",
    "    elif bounds.dim() == 3 and bounds.size(1) == 2:\n",
    "        # Per-sample bounds: bounds shape is (batch_size, 2, dim)\n",
    "        lower_bounds = bounds[:, 0, :]\n",
    "        upper_bounds = bounds[:, 1, :]\n",
    "    else:\n",
    "        raise ValueError(\"Invalid bounds dimension. Expected bounds of shape (2, dim) or (batch_size, 2, dim).\")\n",
    "    \n",
    "    # Perform clamping\n",
    "    return torch.max(torch.min(tensor, upper_bounds), lower_bounds)\n",
    "\n",
    "# Original clamp_col function\n",
    "def clamp_col(t: torch.Tensor, bounds: torch.Tensor) -> torch.Tensor:\n",
    "    if len(bounds.shape) == 2:\n",
    "        # Common bounds for all samples\n",
    "        dim = bounds.shape[-1]\n",
    "        for i in range(dim):\n",
    "            t[:, i] = torch.clamp(t[:, i], min=bounds[0][i], max=bounds[1][i])\n",
    "    else:\n",
    "        # Per-sample bounds\n",
    "        assert bounds.shape[0] == t.shape[0], \"Batch size of bounds and tensor must match.\"\n",
    "        dim = bounds.shape[-1]\n",
    "        for i in range(dim):\n",
    "            for j in range(bounds.shape[0]):\n",
    "                t[j, i] = torch.clamp(t[j, i], min=bounds[j][0][i], max=bounds[j][1][i])\n",
    "    return t\n",
    "\n",
    "\n"
   ]
  },
  {
   "cell_type": "code",
   "execution_count": 2,
   "id": "150515fb-641f-473c-bddd-3ef29b28af8b",
   "metadata": {},
   "outputs": [
    {
     "name": "stdout",
     "output_type": "stream",
     "text": [
      "Test Case 1 Passed: Outputs are identical.\n"
     ]
    }
   ],
   "source": [
    "\n",
    "\n",
    "# Test Case 1: Common bounds for all samples\n",
    "batch_size = 10\n",
    "dim = 5\n",
    "t = torch.randn(batch_size, dim)\n",
    "bounds = torch.tensor([\n",
    "    [-1.0, -2.0, -3.0, -4.0, -5.0],  # Lower bounds\n",
    "    [1.0, 2.0, 3.0, 4.0, 5.0]        # Upper bounds\n",
    "])\n",
    "\n",
    "\n",
    "t1 = t.clone()\n",
    "t2 = t.clone()\n",
    "\n",
    "\n",
    "output1 = clamp_tensor(t1, bounds)\n",
    "output2 = clamp_col(t2, bounds)\n",
    "\n",
    "\n",
    "if torch.allclose(output1, output2):\n",
    "    print(\"Test Case 1 Passed: Outputs are identical.\")\n",
    "else:\n",
    "    print(\"Test Case 1 Failed: Outputs differ.\")\n",
    "    print(\"Difference:\\n\", output1 - output2)\n"
   ]
  },
  {
   "cell_type": "code",
   "execution_count": 3,
   "id": "e28d6a9e-4092-454b-a5f1-4dab643c8639",
   "metadata": {},
   "outputs": [
    {
     "name": "stdout",
     "output_type": "stream",
     "text": [
      "Test Case 2 Passed: Outputs are identical.\n"
     ]
    }
   ],
   "source": [
    "# Test Case 2: Per-sample bounds\n",
    "# Generate per-sample bounds of shape (batch_size, 2, dim)\n",
    "lower_bounds = torch.linspace(-1, -5, steps=dim).repeat(batch_size, 1)\n",
    "upper_bounds = torch.linspace(1, 5, steps=dim).repeat(batch_size, 1)\n",
    "bounds_per_sample = torch.stack([lower_bounds, upper_bounds], dim=1)  # Shape: (batch_size, 2, dim)\n",
    "\n",
    "\n",
    "t1 = t.clone()\n",
    "t2 = t.clone()\n",
    "\n",
    "\n",
    "output1 = clamp_tensor(t1, bounds_per_sample)\n",
    "output2 = clamp_col(t2, bounds_per_sample)\n",
    "\n",
    "\n",
    "if torch.allclose(output1, output2):\n",
    "    print(\"Test Case 2 Passed: Outputs are identical.\")\n",
    "else:\n",
    "    print(\"Test Case 2 Failed: Outputs differ.\")\n",
    "    print(\"Difference:\\n\", output1 - output2)\n",
    "\n"
   ]
  },
  {
   "cell_type": "markdown",
   "id": "75a043b8",
   "metadata": {},
   "source": [
    "# Testing Initial candidates"
   ]
  },
  {
   "cell_type": "code",
   "execution_count": 1,
   "id": "0c76eef2",
   "metadata": {},
   "outputs": [],
   "source": [
    "import torch\n",
    "\n",
    "# Modified generate_initial_candidates function\n",
    "def generate_initial_candidates(\n",
    "    bounds: torch.Tensor, num_candidates: int, random_numbers: torch.Tensor = None\n",
    ") -> torch.Tensor:\n",
    "    \"\"\"\n",
    "    Generates initial candidate points uniformly within the given bounds.\n",
    "\n",
    "    Args:\n",
    "        bounds (Tensor): A tensor containing the lower and upper bounds.\n",
    "        num_candidates (int): The number of candidates to generate.\n",
    "        random_numbers (Tensor): Optional tensor of random numbers to use.\n",
    "\n",
    "    Returns:\n",
    "        Tensor: A tensor of initial candidate points.\n",
    "    \"\"\"\n",
    "    if bounds.dim() == 2 and bounds.size(0) == 2:\n",
    "        # Common bounds for all samples\n",
    "        dim = bounds.shape[1]\n",
    "        lower_bounds, upper_bounds = bounds\n",
    "        if random_numbers is None:\n",
    "            random_numbers = torch.rand(num_candidates, dim)\n",
    "        initial_points = lower_bounds + (upper_bounds - lower_bounds) * random_numbers\n",
    "    elif bounds.dim() == 3 and bounds.size(1) == 2:\n",
    "        # Per-sample bounds\n",
    "        batch_size = bounds.shape[0]\n",
    "        dim = bounds.shape[2]\n",
    "        lower_bounds = bounds[:, 0, :]\n",
    "        upper_bounds = bounds[:, 1, :]\n",
    "        if num_candidates != batch_size:\n",
    "            raise ValueError(\"For per-sample bounds, num_candidates must be equal to batch_size\")\n",
    "        if random_numbers is None:\n",
    "            random_numbers = torch.rand(num_candidates, dim)\n",
    "        initial_points = lower_bounds + (upper_bounds - lower_bounds) * random_numbers\n",
    "    else:\n",
    "        raise ValueError(\"Invalid bounds shape\")\n",
    "    return initial_points\n",
    "\n",
    "\n",
    "\n",
    "\n",
    "\n",
    "#Not ours\n",
    "# Modified generate_batch_initial function\n",
    "def generate_batch_initial(\n",
    "    bounds: torch.Tensor, batch_size: int, random_numbers: torch.Tensor = None\n",
    ") -> torch.Tensor:\n",
    "    \"\"\"\n",
    "    Generates initial candidate points uniformly within the given bounds.\n",
    "\n",
    "    Args:\n",
    "        bounds (Tensor): A tensor containing the lower and upper bounds.\n",
    "        batch_size (int): The number of candidates to generate.\n",
    "        random_numbers (Tensor): Optional tensor of random numbers to use.\n",
    "\n",
    "    Returns:\n",
    "        Tensor: A tensor of initial candidate points.\n",
    "    \"\"\"\n",
    "    dim = bounds.shape[-1]\n",
    "    _initial = torch.zeros((batch_size, dim))\n",
    "    \n",
    "    if bounds.dim() == 2:\n",
    "        # Common bounds for all samples\n",
    "        if random_numbers is None:\n",
    "            random_numbers = torch.rand(batch_size, dim)\n",
    "        for idx in range(dim):\n",
    "            min_val = bounds[0][idx].item()\n",
    "            max_val = bounds[1][idx].item()\n",
    "            _initial[:, idx] = min_val + (max_val - min_val) * random_numbers[:, idx]\n",
    "    else:\n",
    "        # Per-sample bounds\n",
    "        bsz = bounds.shape[0]\n",
    "        if batch_size != bsz:\n",
    "            raise ValueError(\"For per-sample bounds, batch_size must be equal to bounds.shape[0]\")\n",
    "        if random_numbers is None:\n",
    "            random_numbers = torch.rand(batch_size, dim)\n",
    "        for idx in range(dim):\n",
    "            min_vals = bounds[:, 0, idx]\n",
    "            max_vals = bounds[:, 1, idx]\n",
    "            _initial[:, idx] = min_vals + (max_vals - min_vals) * random_numbers[:, idx]\n",
    "    return _initial\n"
   ]
  },
  {
   "cell_type": "code",
   "execution_count": 2,
   "id": "7a07cd26",
   "metadata": {},
   "outputs": [
    {
     "name": "stdout",
     "output_type": "stream",
     "text": [
      "Test Case 1 Passed: Outputs are identical.\n"
     ]
    }
   ],
   "source": [
    "#Test case 1 \n",
    "\n",
    "\n",
    "# Parameters\n",
    "batch_size = 10\n",
    "dim = 5\n",
    "bounds = torch.tensor([\n",
    "    [-1.0, -2.0, -3.0, -4.0, -5.0],  # Lower bounds\n",
    "    [1.0, 2.0, 3.0, 4.0, 5.0]        # Upper bounds\n",
    "])\n",
    "num_candidates = batch_size\n",
    "\n",
    "# Generate random numbers\n",
    "torch.manual_seed(0)\n",
    "random_numbers = torch.rand(num_candidates, dim)\n",
    "\n",
    "# Generate initial candidates using both functions\n",
    "initial_points1 = generate_initial_candidates(bounds, num_candidates, random_numbers)\n",
    "initial_points2 = generate_batch_initial(bounds, batch_size, random_numbers)\n",
    "\n",
    "# Compare outputs\n",
    "if torch.allclose(initial_points1, initial_points2):\n",
    "    print(\"Test Case 1 Passed: Outputs are identical.\")\n",
    "else:\n",
    "    print(\"Test Case 1 Failed: Outputs differ.\")\n",
    "    print(\"Difference:\\n\", initial_points1 - initial_points2)\n"
   ]
  },
  {
   "cell_type": "code",
   "execution_count": 3,
   "id": "99345a4a",
   "metadata": {},
   "outputs": [
    {
     "name": "stdout",
     "output_type": "stream",
     "text": [
      "Test Case 2 Passed: Outputs are identical.\n"
     ]
    }
   ],
   "source": [
    "# Test case 2 \n",
    "\n",
    "\n",
    "# Parameters\n",
    "batch_size = 10\n",
    "dim = 5\n",
    "# Generate per-sample lower and upper bounds\n",
    "lower_bounds = torch.linspace(-1, -5, steps=dim).unsqueeze(0).repeat(batch_size, 1)\n",
    "upper_bounds = torch.linspace(1, 5, steps=dim).unsqueeze(0).repeat(batch_size, 1)\n",
    "bounds_per_sample = torch.stack([lower_bounds, upper_bounds], dim=1)  # Shape: (batch_size, 2, dim)\n",
    "\n",
    "# Generate random numbers\n",
    "torch.manual_seed(0)\n",
    "random_numbers = torch.rand(batch_size, dim)\n",
    "\n",
    "# Generate initial candidates using both functions\n",
    "initial_points1 = generate_initial_candidates(bounds_per_sample, batch_size, random_numbers)\n",
    "initial_points2 = generate_batch_initial(bounds_per_sample, batch_size, random_numbers)\n",
    "\n",
    "# Compare outputs\n",
    "if torch.allclose(initial_points1, initial_points2):\n",
    "    print(\"Test Case 2 Passed: Outputs are identical.\")\n",
    "else:\n",
    "    print(\"Test Case 2 Failed: Outputs differ.\")\n",
    "    print(\"Difference:\\n\", initial_points1 - initial_points2)\n"
   ]
  },
  {
   "cell_type": "code",
   "execution_count": 4,
   "id": "48c3a279",
   "metadata": {},
   "outputs": [
    {
     "name": "stdout",
     "output_type": "stream",
     "text": [
      "Initial Points from generate_initial_candidates:\n",
      " tensor([[-0.0075,  1.0729, -2.4691, -2.9438, -1.9258],\n",
      "        [ 0.2682, -0.0396,  2.3787, -0.3550,  1.3231],\n",
      "        [-0.3022, -0.3931, -2.8660, -2.6491, -2.0611],\n",
      "        [ 0.0370,  0.7907,  1.8001, -2.7118, -2.1773],\n",
      "        [ 0.3632,  1.6608, -0.6174,  2.9932, -0.8059],\n",
      "        [ 0.1058,  1.8110, -2.7830, -2.5182, -1.2658],\n",
      "        [-0.3898,  1.7280, -1.9445, -1.8413, -3.4932],\n",
      "        [-0.9366, -1.1675,  2.5788,  1.7849,  2.4234],\n",
      "        [ 0.0526, -1.0254,  0.5076, -3.7348, -3.6128],\n",
      "        [-0.5155,  1.2619,  1.7590, -1.7740, -0.1804]])\n",
      "Initial Points from generate_batch_initial:\n",
      " tensor([[-0.0075,  1.0729, -2.4691, -2.9438, -1.9258],\n",
      "        [ 0.2682, -0.0396,  2.3787, -0.3550,  1.3231],\n",
      "        [-0.3022, -0.3931, -2.8660, -2.6491, -2.0611],\n",
      "        [ 0.0370,  0.7907,  1.8001, -2.7118, -2.1773],\n",
      "        [ 0.3632,  1.6608, -0.6174,  2.9932, -0.8059],\n",
      "        [ 0.1058,  1.8110, -2.7830, -2.5182, -1.2658],\n",
      "        [-0.3898,  1.7280, -1.9445, -1.8413, -3.4932],\n",
      "        [-0.9366, -1.1675,  2.5788,  1.7849,  2.4234],\n",
      "        [ 0.0526, -1.0254,  0.5076, -3.7348, -3.6128],\n",
      "        [-0.5155,  1.2619,  1.7590, -1.7740, -0.1804]])\n"
     ]
    }
   ],
   "source": [
    "print(\"Initial Points from generate_initial_candidates:\\n\", initial_points1)\n",
    "print(\"Initial Points from generate_batch_initial:\\n\", initial_points2)\n"
   ]
  }
 ],
 "metadata": {
  "kernelspec": {
   "display_name": "base",
   "language": "python",
   "name": "python3"
  },
  "language_info": {
   "codemirror_mode": {
    "name": "ipython",
    "version": 3
   },
   "file_extension": ".py",
   "mimetype": "text/x-python",
   "name": "python",
   "nbconvert_exporter": "python",
   "pygments_lexer": "ipython3",
   "version": "3.12.4"
  }
 },
 "nbformat": 4,
 "nbformat_minor": 5
}
